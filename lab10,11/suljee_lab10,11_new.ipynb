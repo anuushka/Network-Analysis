{
  "cells": [
    {
      "cell_type": "markdown",
      "metadata": {
        "id": "NHL4J3oS0_81"
      },
      "source": [
        "[``DyNetx``](http://dynetx.readthedocs.io/en/latest/) нь a Python хэлний нэмэлт сан бөгөөд өмнө ашиглаж байсан [``networkx``](https://networkx.github.io) сангийн динамик сүлжээг загварчлах зориулж өргөтгөсөн хувилбар юм. Уг сан нь энэ төрлийн сүлжээнд ажиллах алгоритмуудыг агуулна. \n",
        "\n",
        "Зарим судлаачид [``DyNetx``](http://dynetx.readthedocs.io/en/latest/)-ийг``NDlib``-ийг дэмжих нэмэлт санг болгон хөгжүүлсэн. Энэ нь динамик сүлжээний топологийн генерик хөгжүүлэлтийг хийх боломжийг олгодог бөгөөд чиглэлт болон чиглэлт бус графууд дээр ажиллана.\n",
        "- [Snapshot Graphs](#snapshots)\n",
        "- [Interaction Networks](#interactions)"
      ]
    },
    {
      "cell_type": "markdown",
      "metadata": {
        "id": "M7DVyuD80_82"
      },
      "source": [
        "<a id=\"snapshots\"></a>\n",
        "#### Snapshot Graphs ([to top](#top))\n",
        "\n",
        "Ер нь сүлжээний түүхэд тодорхой хугацаанд сүлжээг ажиглаад өөрчлөлтүүдийг нэгтгэн t хугацааны агшинд сүлжээний төлөв, шинжүүдийг агуулсан байдлаар нэг снапсот граф болгон хуваадаг. Томьёолбол,\n",
        "\n",
        "> A ``Snapshot Graph`` $G_t$ is defined by a temporally ordered set $⟨G_1, G_2\\dots G_t⟩$ of static graphs where each snapshot $G_i = (V_i, E_i)$ is univocally identified by the sets of nodes $V_i$ and edges $E_i$.\n",
        "\n",
        ">Снапсот граф  $G_t$ нь хугацааны хувьд эрэмбэлэгдсэн графуудын олонлог буюу $⟨G_1, G_2\\dots G_t⟩$ бөгөөд эдгээр нь статик графууд байх ба орой $V_i$  болон ирмэгүүдийн $E_i$ олонлогоос  бүрдсэн граф $G_i = (V_i, E_i)$ болно.\n",
        "\n",
        "\n",
        "Network snapshots can be effectively used, for instance, to model a phenomenon that generates network perturbations (almost) at regular intervals. In this scenario, context-dependent temporal windows are used to partition the network history into consecutive snapshots: time-bounded observations describing a precise, static, discretization of the network life.\n",
        "\n",
        "Considering our dynamic network example we can identify the following snapshot graphs:\n",
        "\n",
        "<img src=\"https://github.com/sna-unipi/SNA_lectures_notebooks/blob/main/img/ex1.png?raw=true\" width=\"35%\" align=\"left\"/>\n",
        "<img src=\"https://github.com/sna-unipi/SNA_lectures_notebooks/blob/main/img/ex2.png?raw=true\" width=\"25%\" align=\"left\"/>\n",
        "<img src=\"https://github.com/sna-unipi/SNA_lectures_notebooks/blob/main/img/ex3.png?raw=true\" width=\"35%\" align=\"left\"/>\n"
      ]
    },
    {
      "cell_type": "markdown",
      "source": [
        "[``DyNetx``](http://dynetx.readthedocs.io/en/latest/) allows to (among the other things):\n",
        "- List the snapshots of the loaded graph"
      ],
      "metadata": {
        "id": "rltB6OOFm5B5"
      }
    },
    {
      "cell_type": "markdown",
      "metadata": {
        "id": "Fsbvdm100_83"
      },
      "source": [
        "<a id=\"interactions\"></a>\n",
        "#### Interaction networks - Харилцан хамаарлыг харуулсан сүлжээнүүд ([to top](#top))\n",
        "\n",
        "> ``Interaction network`` загвар нь цаг хугацаа өнгөрөхөд оройнууд болон ирмэгүүдийн аль аль нь бий болох эсвэл устахад динамик бүтэцд өөрчлөлт орно гэж үздэг. Ихэвчлэн, ``Intercation network`` -ийг үүсгэхдээ t хугацаануудыг нэгтгэх оруулах замаар авч үздэг ба ирмэгүүд стрийм байдлаар тасралтгүй нэмэгдэхээр загварчилдаг.\n",
        "\n",
        "> An ``interaction network`` is a graph $G = (V, E, T)$ where: $V$ is a set of triplets of the form $(v, t_s, t_e)$, with $v$ a vertex of the graph and $t_s$, $t_e \\in T$ are respectively the birth and death timestamps of the corresponding vertex (with $t_s \\leq t_e$); $E$ is a set of quadruplets $(u, v, t_s, t_e)$, with $u, v \\in V$ are vertices of the graph and $t_s,t_e \\in T$ are respectively the birth and death timestamps of the corresponding edge (with $t_s \\leq t_e$).\n",
        "\n",
        "Дараах байдлаар динамик сүлжээгээ үүссэн гэж авч үзье. \n",
        "\n",
        "\n",
        "<img src=\"https://github.com/sna-unipi/SNA_lectures_notebooks/blob/main/img/ex4.png?raw=true\"  />\n",
        "\n",
        "\n",
        "[``DyNetx``](http://dynetx.readthedocs.io/en/latest/) allows to to obtain the edge stream of a given dynamic graph."
      ]
    },
    {
      "cell_type": "code",
      "source": [
        "!pip install dynetx"
      ],
      "metadata": {
        "colab": {
          "base_uri": "https://localhost:8080/"
        },
        "id": "t9i1Fq5L3sYW",
        "outputId": "07654fe6-611c-4d45-9afe-c9fb5896b5a5"
      },
      "execution_count": null,
      "outputs": [
        {
          "output_type": "stream",
          "name": "stdout",
          "text": [
            "Looking in indexes: https://pypi.org/simple, https://us-python.pkg.dev/colab-wheels/public/simple/\n",
            "Requirement already satisfied: dynetx in /usr/local/lib/python3.10/dist-packages (0.3.1)\n",
            "Requirement already satisfied: tqdm in /usr/local/lib/python3.10/dist-packages (from dynetx) (4.65.0)\n",
            "Requirement already satisfied: numpy in /usr/local/lib/python3.10/dist-packages (from dynetx) (1.22.4)\n",
            "Requirement already satisfied: decorator in /usr/local/lib/python3.10/dist-packages (from dynetx) (4.4.2)\n",
            "Requirement already satisfied: future in /usr/local/lib/python3.10/dist-packages (from dynetx) (0.18.3)\n",
            "Requirement already satisfied: networkx>=2.4 in /usr/local/lib/python3.10/dist-packages (from dynetx) (2.4)\n"
          ]
        }
      ]
    },
    {
      "cell_type": "code",
      "source": [
        "!pip install networkx==2.4"
      ],
      "metadata": {
        "id": "WXQAM6NPhXDT",
        "outputId": "fb8b8c4e-f861-4815-fdea-5853c9741d7e",
        "colab": {
          "base_uri": "https://localhost:8080/"
        }
      },
      "execution_count": null,
      "outputs": [
        {
          "output_type": "stream",
          "name": "stdout",
          "text": [
            "Looking in indexes: https://pypi.org/simple, https://us-python.pkg.dev/colab-wheels/public/simple/\n",
            "Requirement already satisfied: networkx==2.4 in /usr/local/lib/python3.10/dist-packages (2.4)\n",
            "Requirement already satisfied: decorator>=4.3.0 in /usr/local/lib/python3.10/dist-packages (from networkx==2.4) (4.4.2)\n"
          ]
        }
      ]
    },
    {
      "cell_type": "code",
      "source": [
        "def is_string_like(obj):\n",
        "  return isinstance(obj, str)"
      ],
      "metadata": {
        "id": "CzOuBRAWhDEc"
      },
      "execution_count": null,
      "outputs": []
    },
    {
      "cell_type": "code",
      "execution_count": null,
      "metadata": {
        "id": "thR9GC_t0_84"
      },
      "outputs": [],
      "source": [
        "import dynetx as dn\n",
        "import networkx as nx\n",
        "import random\n",
        "\n",
        "def read_net(filename):\n",
        "    g = nx.Graph()\n",
        "    with open(filename) as f:\n",
        "        f.readline()\n",
        "        for l in f:\n",
        "            l = l.split(\",\")\n",
        "            g.add_edge(l[0], l[1])\n",
        "    return g\n",
        "\n",
        "# Game of Thrones Season \n",
        "\n"
      ]
    },
    {
      "cell_type": "code",
      "source": [
        "g1 = dn.DynGraph() # empty dynamic graph\n",
        "g2 = dn.DynGraph() # empty dynamic graph\n",
        "g3 = dn.DynGraph() # empty dynamic graph\n",
        "g4 = dn.DynGraph() # empty dynamic graph"
      ],
      "metadata": {
        "id": "kgWWa_mk7yx9"
      },
      "execution_count": null,
      "outputs": []
    },
    {
      "cell_type": "markdown",
      "metadata": {
        "id": "6yOXF4bM0_85"
      },
      "source": [
        "## Динамик сүлжээг үүсгэх\n",
        "\n",
        "Нэг динамик сүлжээг ирмэгүүдийг нэмэх замааар үүсгэлээ. Жишээлбэл, 10 ER  графуудыг үүсгэсэн ба энэ нь ижилхэн динамик системийн ялгаатай ялгаатай топологиудыг илэрхийлнэ."
      ]
    },
    {
      "cell_type": "code",
      "execution_count": null,
      "metadata": {
        "id": "geCKSuli0_86"
      },
      "outputs": [],
      "source": [
        "g1 = read_net(f'got-s1-edges.csv')"
      ]
    },
    {
      "cell_type": "code",
      "source": [
        "g2 = read_net(f'got-s2-edges.csv')"
      ],
      "metadata": {
        "id": "olJkPgVZ770l"
      },
      "execution_count": null,
      "outputs": []
    },
    {
      "cell_type": "code",
      "source": [
        "g3 = read_net(f'got-s3-edges.csv')"
      ],
      "metadata": {
        "id": "0Xl3noU1778n"
      },
      "execution_count": null,
      "outputs": []
    },
    {
      "cell_type": "code",
      "source": [
        "g4 = read_net(f'got-s4-edges.csv')"
      ],
      "metadata": {
        "id": "mgr4cpj978Ef"
      },
      "execution_count": null,
      "outputs": []
    },
    {
      "cell_type": "code",
      "execution_count": null,
      "metadata": {
        "id": "QnDe-FFr0_8-"
      },
      "outputs": [],
      "source": [
        "g1_flat = nx.Graph(g1.edges())\n"
      ]
    },
    {
      "cell_type": "code",
      "execution_count": null,
      "metadata": {
        "colab": {
          "base_uri": "https://localhost:8080/"
        },
        "id": "RY54fOmC0_8_",
        "outputId": "cf74f8e2-3b5e-4a6d-c3e0-0b7a68b989c4"
      },
      "outputs": [
        {
          "output_type": "execute_result",
          "data": {
            "text/plain": [
              "(networkx.classes.graph.Graph, 126, 549)"
            ]
          },
          "metadata": {},
          "execution_count": 11
        }
      ],
      "source": [
        "type(g1_flat), g1_flat.number_of_nodes(), g1_flat.number_of_edges()"
      ]
    },
    {
      "cell_type": "code",
      "source": [
        "g2_flat = nx.Graph(g2.edges())\n",
        "type(g1_flat), g2_flat.number_of_nodes(), g2_flat.number_of_edges()"
      ],
      "metadata": {
        "colab": {
          "base_uri": "https://localhost:8080/"
        },
        "id": "1kBNy_lK8paG",
        "outputId": "2b27de10-f951-4b6a-a041-1457009839fc"
      },
      "execution_count": null,
      "outputs": [
        {
          "output_type": "execute_result",
          "data": {
            "text/plain": [
              "(networkx.classes.graph.Graph, 129, 486)"
            ]
          },
          "metadata": {},
          "execution_count": 12
        }
      ]
    },
    {
      "cell_type": "code",
      "source": [
        "g3_flat = nx.Graph(g3.edges())\n",
        "type(g1_flat), g3_flat.number_of_nodes(), g3_flat.number_of_edges()"
      ],
      "metadata": {
        "colab": {
          "base_uri": "https://localhost:8080/"
        },
        "id": "a0xvNFok8rwg",
        "outputId": "435673da-6f2a-4a65-c329-1ca436554b9f"
      },
      "execution_count": null,
      "outputs": [
        {
          "output_type": "execute_result",
          "data": {
            "text/plain": [
              "(networkx.classes.graph.Graph, 124, 504)"
            ]
          },
          "metadata": {},
          "execution_count": 13
        }
      ]
    },
    {
      "cell_type": "code",
      "source": [
        "g4_flat = nx.Graph(g4.edges())\n",
        "type(g1_flat), g4_flat.number_of_nodes(), g4_flat.number_of_edges()"
      ],
      "metadata": {
        "colab": {
          "base_uri": "https://localhost:8080/"
        },
        "id": "yMRE1EJL8r3y",
        "outputId": "2f1f754f-6916-4e1b-e204-5a1b24ed9cc3"
      },
      "execution_count": null,
      "outputs": [
        {
          "output_type": "execute_result",
          "data": {
            "text/plain": [
              "(networkx.classes.graph.Graph, 172, 667)"
            ]
          },
          "metadata": {},
          "execution_count": 14
        }
      ]
    },
    {
      "cell_type": "markdown",
      "metadata": {
        "id": "YoN3pGNc0_8_"
      },
      "source": [
        "### Динамик сүлжээний хэмжүүрүүд"
      ]
    },
    {
      "cell_type": "markdown",
      "metadata": {
        "id": "3zqcOsuU0_9A"
      },
      "source": [
        "#### Inter event time (Node)\n",
        "\n",
        "Distribution of inter event time (e.g., how much time before a new interaction involving a specific node appears in the graph)\n",
        "\n",
        "Хэчнээн удаа тухайн графын тодорхой нэг оройд холбогдсон холбоосууд үүссэн вэ?"
      ]
    },
    {
      "cell_type": "markdown",
      "metadata": {
        "id": "aS1pGGoT0_9B"
      },
      "source": [
        "#### Inter event time (Edge)\n",
        "\n",
        "Distribution of inter event time (e.g., how much time before a new interaction among two nodes, u and v, appears in the graph)\n",
        "\n",
        "Хэчнээн удаа u болон v оройнуудыг холбосон ирмэг үүссэн вэ?"
      ]
    },
    {
      "cell_type": "code",
      "source": [
        "!pip install cdlib"
      ],
      "metadata": {
        "colab": {
          "base_uri": "https://localhost:8080/"
        },
        "id": "c76-1zQA_md7",
        "outputId": "d516c289-227a-4c6e-e4a6-cd61c28b74c0"
      },
      "execution_count": null,
      "outputs": [
        {
          "output_type": "stream",
          "name": "stdout",
          "text": [
            "Looking in indexes: https://pypi.org/simple, https://us-python.pkg.dev/colab-wheels/public/simple/\n",
            "Requirement already satisfied: cdlib in /usr/local/lib/python3.10/dist-packages (0.2.6)\n",
            "Requirement already satisfied: angel-cd in /usr/local/lib/python3.10/dist-packages (from cdlib) (1.0.3)\n",
            "Requirement already satisfied: python-igraph in /usr/local/lib/python3.10/dist-packages (from cdlib) (0.10.4)\n",
            "Requirement already satisfied: matplotlib in /usr/local/lib/python3.10/dist-packages (from cdlib) (3.7.1)\n",
            "Requirement already satisfied: pyclustering in /usr/local/lib/python3.10/dist-packages (from cdlib) (0.10.1.2)\n",
            "Requirement already satisfied: markov-clustering in /usr/local/lib/python3.10/dist-packages (from cdlib) (0.0.6.dev0)\n",
            "Requirement already satisfied: demon in /usr/local/lib/python3.10/dist-packages (from cdlib) (2.0.6)\n",
            "Requirement already satisfied: thresholdclustering in /usr/local/lib/python3.10/dist-packages (from cdlib) (1.1)\n",
            "Requirement already satisfied: cython in /usr/local/lib/python3.10/dist-packages (from cdlib) (0.29.34)\n",
            "Requirement already satisfied: bimlpa in /usr/local/lib/python3.10/dist-packages (from cdlib) (0.1.2)\n",
            "Requirement already satisfied: pooch in /usr/local/lib/python3.10/dist-packages (from cdlib) (1.6.0)\n",
            "Requirement already satisfied: python-louvain>=0.16 in /usr/local/lib/python3.10/dist-packages (from cdlib) (0.16)\n",
            "Requirement already satisfied: scikit-learn in /usr/local/lib/python3.10/dist-packages (from cdlib) (1.2.2)\n",
            "Requirement already satisfied: nf1 in /usr/local/lib/python3.10/dist-packages (from cdlib) (0.0.4)\n",
            "Requirement already satisfied: networkx>=2.4 in /usr/local/lib/python3.10/dist-packages (from cdlib) (2.4)\n",
            "Requirement already satisfied: future in /usr/local/lib/python3.10/dist-packages (from cdlib) (0.18.3)\n",
            "Requirement already satisfied: pulp in /usr/local/lib/python3.10/dist-packages (from cdlib) (2.7.0)\n",
            "Requirement already satisfied: chinese-whispers in /usr/local/lib/python3.10/dist-packages (from cdlib) (0.8.1)\n",
            "Requirement already satisfied: tqdm in /usr/local/lib/python3.10/dist-packages (from cdlib) (4.65.0)\n",
            "Requirement already satisfied: eva-lcd in /usr/local/lib/python3.10/dist-packages (from cdlib) (0.1.1)\n",
            "Requirement already satisfied: dynetx in /usr/local/lib/python3.10/dist-packages (from cdlib) (0.3.1)\n",
            "Requirement already satisfied: numpy in /usr/local/lib/python3.10/dist-packages (from cdlib) (1.22.4)\n",
            "Requirement already satisfied: scipy in /usr/local/lib/python3.10/dist-packages (from cdlib) (1.10.1)\n",
            "Requirement already satisfied: python-Levenshtein in /usr/local/lib/python3.10/dist-packages (from cdlib) (0.21.0)\n",
            "Requirement already satisfied: seaborn in /usr/local/lib/python3.10/dist-packages (from cdlib) (0.12.2)\n",
            "Requirement already satisfied: pandas in /usr/local/lib/python3.10/dist-packages (from cdlib) (1.5.3)\n",
            "Requirement already satisfied: decorator>=4.3.0 in /usr/local/lib/python3.10/dist-packages (from networkx>=2.4->cdlib) (4.4.2)\n",
            "Requirement already satisfied: pillow>=6.2.0 in /usr/local/lib/python3.10/dist-packages (from matplotlib->cdlib) (8.4.0)\n",
            "Requirement already satisfied: kiwisolver>=1.0.1 in /usr/local/lib/python3.10/dist-packages (from matplotlib->cdlib) (1.4.4)\n",
            "Requirement already satisfied: pyparsing>=2.3.1 in /usr/local/lib/python3.10/dist-packages (from matplotlib->cdlib) (3.0.9)\n",
            "Requirement already satisfied: fonttools>=4.22.0 in /usr/local/lib/python3.10/dist-packages (from matplotlib->cdlib) (4.39.3)\n",
            "Requirement already satisfied: contourpy>=1.0.1 in /usr/local/lib/python3.10/dist-packages (from matplotlib->cdlib) (1.0.7)\n",
            "Requirement already satisfied: python-dateutil>=2.7 in /usr/local/lib/python3.10/dist-packages (from matplotlib->cdlib) (2.8.2)\n",
            "Requirement already satisfied: packaging>=20.0 in /usr/local/lib/python3.10/dist-packages (from matplotlib->cdlib) (23.1)\n",
            "Requirement already satisfied: cycler>=0.10 in /usr/local/lib/python3.10/dist-packages (from matplotlib->cdlib) (0.11.0)\n",
            "Requirement already satisfied: pytz>=2020.1 in /usr/local/lib/python3.10/dist-packages (from pandas->cdlib) (2022.7.1)\n",
            "Requirement already satisfied: appdirs>=1.3.0 in /usr/local/lib/python3.10/dist-packages (from pooch->cdlib) (1.4.4)\n",
            "Requirement already satisfied: requests>=2.19.0 in /usr/local/lib/python3.10/dist-packages (from pooch->cdlib) (2.27.1)\n",
            "Requirement already satisfied: igraph==0.10.4 in /usr/local/lib/python3.10/dist-packages (from python-igraph->cdlib) (0.10.4)\n",
            "Requirement already satisfied: texttable>=1.6.2 in /usr/local/lib/python3.10/dist-packages (from igraph==0.10.4->python-igraph->cdlib) (1.6.7)\n",
            "Requirement already satisfied: Levenshtein==0.21.0 in /usr/local/lib/python3.10/dist-packages (from python-Levenshtein->cdlib) (0.21.0)\n",
            "Requirement already satisfied: rapidfuzz<4.0.0,>=2.3.0 in /usr/local/lib/python3.10/dist-packages (from Levenshtein==0.21.0->python-Levenshtein->cdlib) (3.0.0)\n",
            "Requirement already satisfied: threadpoolctl>=2.0.0 in /usr/local/lib/python3.10/dist-packages (from scikit-learn->cdlib) (3.1.0)\n",
            "Requirement already satisfied: joblib>=1.1.1 in /usr/local/lib/python3.10/dist-packages (from scikit-learn->cdlib) (1.2.0)\n",
            "Requirement already satisfied: six>=1.5 in /usr/local/lib/python3.10/dist-packages (from python-dateutil>=2.7->matplotlib->cdlib) (1.16.0)\n",
            "Requirement already satisfied: idna<4,>=2.5 in /usr/local/lib/python3.10/dist-packages (from requests>=2.19.0->pooch->cdlib) (3.4)\n",
            "Requirement already satisfied: certifi>=2017.4.17 in /usr/local/lib/python3.10/dist-packages (from requests>=2.19.0->pooch->cdlib) (2022.12.7)\n",
            "Requirement already satisfied: urllib3<1.27,>=1.21.1 in /usr/local/lib/python3.10/dist-packages (from requests>=2.19.0->pooch->cdlib) (1.26.15)\n",
            "Requirement already satisfied: charset-normalizer~=2.0.0 in /usr/local/lib/python3.10/dist-packages (from requests>=2.19.0->pooch->cdlib) (2.0.12)\n"
          ]
        }
      ]
    },
    {
      "cell_type": "code",
      "source": [
        "!pip install igraph"
      ],
      "metadata": {
        "colab": {
          "base_uri": "https://localhost:8080/"
        },
        "id": "iMVzr6dx88nY",
        "outputId": "5ce463f8-0325-4467-8583-f135ed80a2e5"
      },
      "execution_count": null,
      "outputs": [
        {
          "output_type": "stream",
          "name": "stdout",
          "text": [
            "Looking in indexes: https://pypi.org/simple, https://us-python.pkg.dev/colab-wheels/public/simple/\n",
            "Requirement already satisfied: igraph in /usr/local/lib/python3.10/dist-packages (0.10.4)\n",
            "Requirement already satisfied: texttable>=1.6.2 in /usr/local/lib/python3.10/dist-packages (from igraph) (1.6.7)\n"
          ]
        }
      ]
    },
    {
      "cell_type": "code",
      "source": [
        "!pip install leidenalg"
      ],
      "metadata": {
        "colab": {
          "base_uri": "https://localhost:8080/"
        },
        "id": "HuciHRr489SJ",
        "outputId": "9121bb7c-f546-462c-83a8-870f83be52b3"
      },
      "execution_count": null,
      "outputs": [
        {
          "output_type": "stream",
          "name": "stdout",
          "text": [
            "Looking in indexes: https://pypi.org/simple, https://us-python.pkg.dev/colab-wheels/public/simple/\n",
            "Requirement already satisfied: leidenalg in /usr/local/lib/python3.10/dist-packages (0.9.1)\n",
            "Requirement already satisfied: igraph<0.11,>=0.10.0 in /usr/local/lib/python3.10/dist-packages (from leidenalg) (0.10.4)\n",
            "Requirement already satisfied: texttable>=1.6.2 in /usr/local/lib/python3.10/dist-packages (from igraph<0.11,>=0.10.0->leidenalg) (1.6.7)\n"
          ]
        }
      ]
    },
    {
      "cell_type": "code",
      "source": [
        "from cdlib import algorithms"
      ],
      "metadata": {
        "id": "EIJN6wwv9IsF",
        "colab": {
          "base_uri": "https://localhost:8080/"
        },
        "outputId": "e95987e3-3a2b-4fac-80f6-01858410705e"
      },
      "execution_count": null,
      "outputs": [
        {
          "output_type": "stream",
          "name": "stdout",
          "text": [
            "Note: to be able to use all crisp methods, you need to install some additional packages:  {'infomap', 'karateclub', 'graph_tool', 'wurlitzer'}\n",
            "Note: to be able to use all overlapping methods, you need to install some additional packages:  {'ASLPAw', 'karateclub'}\n",
            "Note: to be able to use all bipartite methods, you need to install some additional packages:  {'infomap', 'wurlitzer'}\n"
          ]
        }
      ]
    },
    {
      "cell_type": "code",
      "source": [
        "import cdlib"
      ],
      "metadata": {
        "id": "yYXHs7uH9xSD"
      },
      "execution_count": null,
      "outputs": []
    },
    {
      "cell_type": "code",
      "source": [
        "from cdlib import TemporalClustering\n",
        "\n",
        "tc1 = TemporalClustering()\n",
        "tc2 = TemporalClustering()\n",
        "\n",
        "coms = algorithms.louvain(g1)  # here any CDlib algorithm can be applied\n",
        "coms = algorithms.louvain(g2)  # here any CDlib algorithm can be applied\n",
        "coms1 = algorithms.louvain(g3)  # here any CDlib algorithm can be applied\n",
        "coms1 = algorithms.louvain(g4)  # here any CDlib algorithm can be applied\n",
        "\n",
        "tc1.add_clustering(coms, 1)\n",
        "tc1.add_clustering(coms, 2)\n",
        "tc1.add_clustering(coms, 3)\n",
        "tc1.add_clustering(coms, 4)\n",
        "tc2.add_clustering(coms1, 1)\n",
        "tc2.add_clustering(coms1, 2)\n",
        "tc2.add_clustering(coms1, 3)\n",
        "tc2.add_clustering(coms1, 4)\n",
        "\n",
        "\n"
      ],
      "metadata": {
        "id": "ZkhFk-FN9EaO"
      },
      "execution_count": null,
      "outputs": []
    },
    {
      "cell_type": "code",
      "source": [
        "tc1.get_observation_ids()"
      ],
      "metadata": {
        "colab": {
          "base_uri": "https://localhost:8080/"
        },
        "id": "hpFbIp7r_9qR",
        "outputId": "6695bb55-df0a-4dcc-ba27-c896f2a4def1"
      },
      "execution_count": null,
      "outputs": [
        {
          "output_type": "execute_result",
          "data": {
            "text/plain": [
              "[1, 2, 3, 4]"
            ]
          },
          "metadata": {},
          "execution_count": 59
        }
      ]
    },
    {
      "cell_type": "code",
      "source": [
        "tc1.get_clustering_at(1)"
      ],
      "metadata": {
        "colab": {
          "base_uri": "https://localhost:8080/"
        },
        "id": "klWWRE3s_-vB",
        "outputId": "ec2dd004-0194-4ea2-87d3-e1f772cd804d"
      },
      "execution_count": null,
      "outputs": [
        {
          "output_type": "execute_result",
          "data": {
            "text/plain": [
              "<cdlib.classes.named_clustering.NamedClustering at 0x7f775bc249a0>"
            ]
          },
          "metadata": {},
          "execution_count": 60
        }
      ]
    },
    {
      "cell_type": "code",
      "source": [
        "jaccard = lambda x, y: len(set(x) & set(y)) / len(set(x) | set(y))"
      ],
      "metadata": {
        "id": "R81Dh3-CAJNN"
      },
      "execution_count": null,
      "outputs": []
    },
    {
      "cell_type": "code",
      "source": [
        "matches = tc1.community_matching(jaccard, two_sided=True)"
      ],
      "metadata": {
        "id": "n_WZHj5ZAJvA"
      },
      "execution_count": null,
      "outputs": []
    },
    {
      "cell_type": "code",
      "source": [
        "matches"
      ],
      "metadata": {
        "colab": {
          "base_uri": "https://localhost:8080/"
        },
        "id": "RvY2ZXUkBxuC",
        "outputId": "f26cecea-5743-487a-b4db-b6d460370a45"
      },
      "execution_count": null,
      "outputs": [
        {
          "output_type": "execute_result",
          "data": {
            "text/plain": [
              "[('1_0', '2_0', 1.0),\n",
              " ('1_1', '2_1', 1.0),\n",
              " ('1_2', '2_2', 1.0),\n",
              " ('1_3', '2_3', 1.0),\n",
              " ('1_4', '2_4', 1.0),\n",
              " ('1_5', '2_5', 1.0),\n",
              " ('2_0', '3_0', 1.0),\n",
              " ('2_1', '3_1', 1.0),\n",
              " ('2_2', '3_2', 1.0),\n",
              " ('2_3', '3_3', 1.0),\n",
              " ('2_4', '3_4', 1.0),\n",
              " ('2_5', '3_5', 1.0),\n",
              " ('3_0', '4_0', 1.0),\n",
              " ('3_1', '4_1', 1.0),\n",
              " ('3_2', '4_2', 1.0),\n",
              " ('3_3', '4_3', 1.0),\n",
              " ('3_4', '4_4', 1.0),\n",
              " ('3_5', '4_5', 1.0),\n",
              " ('3_0', '4_0', 1.0),\n",
              " ('3_1', '4_1', 1.0),\n",
              " ('3_2', '4_2', 1.0),\n",
              " ('3_3', '4_3', 1.0),\n",
              " ('3_4', '4_4', 1.0),\n",
              " ('3_5', '4_5', 1.0),\n",
              " ('2_0', '3_0', 1.0),\n",
              " ('2_1', '3_1', 1.0),\n",
              " ('2_2', '3_2', 1.0),\n",
              " ('2_3', '3_3', 1.0),\n",
              " ('2_4', '3_4', 1.0),\n",
              " ('2_5', '3_5', 1.0),\n",
              " ('1_0', '2_0', 1.0),\n",
              " ('1_1', '2_1', 1.0),\n",
              " ('1_2', '2_2', 1.0),\n",
              " ('1_3', '2_3', 1.0),\n",
              " ('1_4', '2_4', 1.0),\n",
              " ('1_5', '2_5', 1.0)]"
            ]
          },
          "metadata": {},
          "execution_count": 62
        }
      ]
    },
    {
      "cell_type": "code",
      "source": [
        "c1 = tc1.get_clustering_at(1).named_communities[matches[0][0]]"
      ],
      "metadata": {
        "id": "s2ynbdr9ABNt"
      },
      "execution_count": null,
      "outputs": []
    },
    {
      "cell_type": "code",
      "source": [
        "c1"
      ],
      "metadata": {
        "colab": {
          "base_uri": "https://localhost:8080/"
        },
        "id": "X0uEX8_fAN84",
        "outputId": "6f1bebb2-97cb-4cb1-b93b-8012aff3209a"
      },
      "execution_count": null,
      "outputs": [
        {
          "output_type": "execute_result",
          "data": {
            "text/plain": [
              "['CERSEI',\n",
              " 'TYRION',\n",
              " 'VARYS',\n",
              " 'SHAE',\n",
              " 'BRONN',\n",
              " 'JOFFREY',\n",
              " 'SANSA',\n",
              " 'PYCELLE',\n",
              " 'HOUND',\n",
              " 'JANOS',\n",
              " 'LANCEL',\n",
              " 'PODRICK',\n",
              " 'TOMMEN',\n",
              " 'ROS',\n",
              " 'DAISY',\n",
              " 'DONTOS',\n",
              " 'HAYLENE',\n",
              " 'MERYN_TRANT',\n",
              " 'MYRCELLA',\n",
              " 'MANDON',\n",
              " 'TIMETT',\n",
              " 'BARRA',\n",
              " 'MHAEGEN',\n",
              " 'ILYN_PAYNE',\n",
              " 'ROBIN',\n",
              " 'BOROS',\n",
              " 'JOANNA',\n",
              " 'HIGH_SEPTON',\n",
              " 'LYSA',\n",
              " 'TRYSTANE',\n",
              " 'PROTESTER']"
            ]
          },
          "metadata": {},
          "execution_count": 64
        }
      ]
    },
    {
      "cell_type": "code",
      "source": [
        "matches = tc2.community_matching(jaccard, two_sided=True)"
      ],
      "metadata": {
        "id": "ezSN3_z5CXqY"
      },
      "execution_count": null,
      "outputs": []
    },
    {
      "cell_type": "code",
      "source": [
        "matches"
      ],
      "metadata": {
        "colab": {
          "base_uri": "https://localhost:8080/"
        },
        "id": "uJpA9AtbCiBQ",
        "outputId": "87d08b35-9a5b-47f4-b881-505569eafe67"
      },
      "execution_count": null,
      "outputs": [
        {
          "output_type": "execute_result",
          "data": {
            "text/plain": [
              "[('1_0', '2_0', 1.0),\n",
              " ('1_1', '2_1', 1.0),\n",
              " ('1_2', '2_2', 1.0),\n",
              " ('1_3', '2_3', 1.0),\n",
              " ('1_4', '2_4', 1.0),\n",
              " ('1_5', '2_5', 1.0),\n",
              " ('1_6', '2_6', 1.0),\n",
              " ('1_7', '2_7', 1.0),\n",
              " ('2_0', '3_0', 1.0),\n",
              " ('2_1', '3_1', 1.0),\n",
              " ('2_2', '3_2', 1.0),\n",
              " ('2_3', '3_3', 1.0),\n",
              " ('2_4', '3_4', 1.0),\n",
              " ('2_5', '3_5', 1.0),\n",
              " ('2_6', '3_6', 1.0),\n",
              " ('2_7', '3_7', 1.0),\n",
              " ('3_0', '4_0', 1.0),\n",
              " ('3_1', '4_1', 1.0),\n",
              " ('3_2', '4_2', 1.0),\n",
              " ('3_3', '4_3', 1.0),\n",
              " ('3_4', '4_4', 1.0),\n",
              " ('3_5', '4_5', 1.0),\n",
              " ('3_6', '4_6', 1.0),\n",
              " ('3_7', '4_7', 1.0),\n",
              " ('3_0', '4_0', 1.0),\n",
              " ('3_1', '4_1', 1.0),\n",
              " ('3_2', '4_2', 1.0),\n",
              " ('3_3', '4_3', 1.0),\n",
              " ('3_4', '4_4', 1.0),\n",
              " ('3_5', '4_5', 1.0),\n",
              " ('3_6', '4_6', 1.0),\n",
              " ('3_7', '4_7', 1.0),\n",
              " ('2_0', '3_0', 1.0),\n",
              " ('2_1', '3_1', 1.0),\n",
              " ('2_2', '3_2', 1.0),\n",
              " ('2_3', '3_3', 1.0),\n",
              " ('2_4', '3_4', 1.0),\n",
              " ('2_5', '3_5', 1.0),\n",
              " ('2_6', '3_6', 1.0),\n",
              " ('2_7', '3_7', 1.0),\n",
              " ('1_0', '2_0', 1.0),\n",
              " ('1_1', '2_1', 1.0),\n",
              " ('1_2', '2_2', 1.0),\n",
              " ('1_3', '2_3', 1.0),\n",
              " ('1_4', '2_4', 1.0),\n",
              " ('1_5', '2_5', 1.0),\n",
              " ('1_6', '2_6', 1.0),\n",
              " ('1_7', '2_7', 1.0)]"
            ]
          },
          "metadata": {},
          "execution_count": 68
        }
      ]
    },
    {
      "cell_type": "code",
      "source": [
        "c2 = tc2.get_clustering_at(1).named_communities[matches[0][0]]\n"
      ],
      "metadata": {
        "id": "wjQLW5rIAOqz"
      },
      "execution_count": null,
      "outputs": []
    },
    {
      "cell_type": "code",
      "source": [
        "c2"
      ],
      "metadata": {
        "colab": {
          "base_uri": "https://localhost:8080/"
        },
        "id": "XoIGr0frASaf",
        "outputId": "ce1be5dc-8986-4d5f-ab41-217908c69e96"
      },
      "execution_count": null,
      "outputs": [
        {
          "output_type": "execute_result",
          "data": {
            "text/plain": [
              "['JAIME',\n",
              " 'TYRION',\n",
              " 'CERSEI',\n",
              " 'TYWIN',\n",
              " 'BRONN',\n",
              " 'PODRICK',\n",
              " 'OBERYN',\n",
              " 'BRIENNE',\n",
              " 'SHAE',\n",
              " 'JOFFREY',\n",
              " 'ELLARIA',\n",
              " 'MARGAERY',\n",
              " 'OLENNA',\n",
              " 'TOMMEN',\n",
              " 'VARYS',\n",
              " 'PYCELLE',\n",
              " 'HOT_PIE',\n",
              " 'MACE',\n",
              " 'OLYVAR',\n",
              " 'QYBURN',\n",
              " 'MORGAN',\n",
              " 'MOUNTAIN',\n",
              " 'ELIA',\n",
              " 'LORAS',\n",
              " 'MORGANS_FRIEND',\n",
              " 'MAREI',\n",
              " 'BALON_DWARF',\n",
              " 'ROBB_DWARF',\n",
              " 'DORNISH_LORD',\n",
              " 'ENDREW',\n",
              " 'RENLY_DWARF',\n",
              " 'STANNIS_DWARF',\n",
              " 'MYRCELLA',\n",
              " 'JOFFREY_DWARF',\n",
              " 'ORSON',\n",
              " 'HIGH_SEPTON',\n",
              " 'LUTHOR',\n",
              " 'AERYS',\n",
              " 'ROBERT',\n",
              " 'BAELOR',\n",
              " 'SELWYN',\n",
              " 'LOLLYS',\n",
              " 'DORAN',\n",
              " 'RENLY',\n",
              " 'BOROS',\n",
              " 'FALYSE',\n",
              " 'FOOL',\n",
              " 'JOANNA',\n",
              " 'VIOLA',\n",
              " 'MUSICIAN',\n",
              " 'ORYS',\n",
              " 'ORYS_BROTHER']"
            ]
          },
          "metadata": {},
          "execution_count": 71
        }
      ]
    },
    {
      "cell_type": "code",
      "source": [
        "set(c1) & set(c2) "
      ],
      "metadata": {
        "colab": {
          "base_uri": "https://localhost:8080/"
        },
        "id": "IkSWhrOuAVLf",
        "outputId": "0fcafe0e-9a28-4010-9fd9-88dbefe0923e"
      },
      "execution_count": null,
      "outputs": [
        {
          "output_type": "execute_result",
          "data": {
            "text/plain": [
              "{'BOROS',\n",
              " 'BRONN',\n",
              " 'CERSEI',\n",
              " 'HIGH_SEPTON',\n",
              " 'JOANNA',\n",
              " 'JOFFREY',\n",
              " 'MYRCELLA',\n",
              " 'PODRICK',\n",
              " 'PYCELLE',\n",
              " 'SHAE',\n",
              " 'TOMMEN',\n",
              " 'TYRION',\n",
              " 'VARYS'}"
            ]
          },
          "metadata": {},
          "execution_count": 72
        }
      ]
    },
    {
      "cell_type": "code",
      "source": [
        "jaccard(c1,c2)"
      ],
      "metadata": {
        "colab": {
          "base_uri": "https://localhost:8080/"
        },
        "id": "A54p_AcgAWAm",
        "outputId": "6325bf18-c64e-4193-f0af-db0ecf3f3e02"
      },
      "execution_count": null,
      "outputs": [
        {
          "output_type": "execute_result",
          "data": {
            "text/plain": [
              "0.18571428571428572"
            ]
          },
          "metadata": {},
          "execution_count": 73
        }
      ]
    }
  ],
  "metadata": {
    "kernelspec": {
      "display_name": "Python 3",
      "language": "python",
      "name": "python3"
    },
    "language_info": {
      "codemirror_mode": {
        "name": "ipython",
        "version": 3
      },
      "file_extension": ".py",
      "mimetype": "text/x-python",
      "name": "python",
      "nbconvert_exporter": "python",
      "pygments_lexer": "ipython3",
      "version": "3.7.4"
    },
    "colab": {
      "provenance": []
    }
  },
  "nbformat": 4,
  "nbformat_minor": 0
}